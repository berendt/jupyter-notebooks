{
 "cells": [
  {
   "cell_type": "markdown",
   "id": "6c5bd712-0b6e-4d75-8210-f850f31bf073",
   "metadata": {},
   "source": [
    "Get code from GitHub"
   ]
  },
  {
   "cell_type": "code",
   "execution_count": null,
   "id": "8191b8fb-7ead-4e3f-9fe7-c16852913890",
   "metadata": {},
   "outputs": [],
   "source": [
    "%%bash\n",
    "if [[ ! -e llama.cpp ]]; then\n",
    "    git clone https://github.com/ggerganov/llama.cpp\n",
    "fi"
   ]
  },
  {
   "cell_type": "markdown",
   "id": "f6f63994-e2b5-436a-9295-4f76e5dbf4a3",
   "metadata": {},
   "source": [
    "Compile code"
   ]
  },
  {
   "cell_type": "code",
   "execution_count": null,
   "id": "1d741f43-4ffa-4d51-b36a-e1354ac0992a",
   "metadata": {},
   "outputs": [],
   "source": [
    "%%bash\n",
    "if [[ ! -e llama.cpp/main ]]; then\n",
    "    make -C llama.cpp -j8\n",
    "fi"
   ]
  },
  {
   "cell_type": "markdown",
   "id": "9c6ff0ad-bf92-4d65-af0e-6a23caab88d2",
   "metadata": {},
   "source": [
    "Download model from huggingface.co"
   ]
  },
  {
   "cell_type": "code",
   "execution_count": null,
   "id": "a999ccb7-626e-4e45-8f00-b08fd2166d63",
   "metadata": {},
   "outputs": [],
   "source": [
    "%%bash\n",
    "if [[ ! -e llama.cpp/models/codellama-7b-instruct.Q5_K_M.gguf ]]; then\n",
    "    wget -O llama.cpp/models/codellama-7b-instruct.Q5_K_M.gguf https://huggingface.co/TheBloke/CodeLlama-7B-Instruct-GGUF/blob/main/codellama-7b-instruct.Q5_K_M.gguf\n",
    "fi"
   ]
  },
  {
   "cell_type": "markdown",
   "id": "6191adfc-704d-429d-825d-d0dcd2c48706",
   "metadata": {},
   "source": [
    "Run model "
   ]
  },
  {
   "cell_type": "code",
   "execution_count": null,
   "id": "81814ac4-8c32-49ab-81c5-76028d3cf9fb",
   "metadata": {
    "scrolled": true
   },
   "outputs": [],
   "source": [
    "%%bash\n",
    "./llama.cpp/main -m llama.cpp/models/codellama-7b-instruct.Q5_K_M.gguf -n 512 --log-disable -p \"Write me a script in Python that outputs a Christmas tree\""
   ]
  }
 ],
 "metadata": {
  "kernelspec": {
   "display_name": "Python 3 (ipykernel)",
   "language": "python",
   "name": "python3"
  },
  "language_info": {
   "codemirror_mode": {
    "name": "ipython",
    "version": 3
   },
   "file_extension": ".py",
   "mimetype": "text/x-python",
   "name": "python",
   "nbconvert_exporter": "python",
   "pygments_lexer": "ipython3",
   "version": "3.11.5"
  }
 },
 "nbformat": 4,
 "nbformat_minor": 5
}
